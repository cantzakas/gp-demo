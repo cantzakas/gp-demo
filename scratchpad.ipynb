{
 "cells": [
  {
   "cell_type": "markdown",
   "metadata": {},
   "source": [
    "- ### ne1_hr_lc\n",
    "  Satellite-derived land cover data and shaded relief presented with a light, natural palette suitable for making thematic and reference maps. Two versions of the 10 million-scale raster data are offered: high resolution files at 21,600 x 10,800 pixels and low resolution at 16,200 x 8,100. The raster files register precisely with the 10m vector data. \n",
    "\n",
    "  More information: https://www.naturalearthdata.com/http//www.naturalearthdata.com/download/10m/raster/NE1_HR_LC.zip"
   ]
  },
  {
   "cell_type": "code",
   "execution_count": null,
   "metadata": {},
   "outputs": [],
   "source": [
    "import os, re\n",
    "from IPython.display import display_html, display_markdown\n",
    "\n",
    "import numpy as np\n",
    "import pandas as pd\n",
    "\n",
    "CONNECTION_STRING = os.getenv('AWSGPDBCONN')\n",
    "\n",
    "cs = re.match('^postgresql:\\/\\/(\\S+):(\\S+)@(\\S+):(\\S+)\\/(\\S+)$', CONNECTION_STRING)\n",
    "\n",
    "DB_USER   = cs.group(1)\n",
    "DB_PWD    = cs.group(2)\n",
    "DB_SERVER = cs.group(3)\n",
    "DB_PORT   = cs.group(4)\n",
    "DB_NAME   = cs.group(5)\n",
    "con = CONNECTION_STRING \n",
    "\n",
    "%reload_ext sql\n",
    "%sql $CONNECTION_STRING"
   ]
  },
  {
   "cell_type": "code",
   "execution_count": null,
   "metadata": {},
   "outputs": [],
   "source": [
    "%%sql $DB_USER@$DB_SERVER\n",
    "SELECT UNNEST(ARRAY[version, postgis_full_version]) version_info FROM (SELECT version()) A, (SELECT postgis_full_version()) B"
   ]
  },
  {
   "cell_type": "code",
   "execution_count": null,
   "metadata": {},
   "outputs": [],
   "source": []
  },
  {
   "cell_type": "markdown",
   "metadata": {},
   "source": [
    "### Scratch pad"
   ]
  },
  {
   "cell_type": "markdown",
   "metadata": {},
   "source": [
    "%%sql\n",
    "SELECT COUNT(*) AS cnt, 'tiger.addr' AS tblname FROM tiger.addr UNION ALL \n",
    "SELECT COUNT(*) AS cnt, 'tiger.addrfeat' AS tblname FROM tiger.addrfeat UNION ALL \n",
    "SELECT COUNT(*) AS cnt, 'tiger.bg' AS tblname FROM tiger.bg UNION ALL \n",
    "SELECT COUNT(*) AS cnt, 'tiger.county' AS tblname FROM tiger.county UNION ALL \n",
    "SELECT COUNT(*) AS cnt, 'tiger.county_lookup' AS tblname FROM tiger.county_lookup UNION ALL \n",
    "SELECT COUNT(*) AS cnt, 'tiger.countysub_lookup' AS tblname FROM tiger.countysub_lookup UNION ALL \n",
    "SELECT COUNT(*) AS cnt, 'tiger.cousub' AS tblname FROM tiger.cousub UNION ALL \n",
    "SELECT COUNT(*) AS cnt, 'tiger.direction_lookup' AS tblname FROM tiger.direction_lookup UNION ALL \n",
    "SELECT COUNT(*) AS cnt, 'tiger.edges' AS tblname FROM tiger.edges UNION ALL \n",
    "SELECT COUNT(*) AS cnt, 'tiger.faces' AS tblname FROM tiger.faces UNION ALL \n",
    "SELECT COUNT(*) AS cnt, 'tiger.featnames' AS tblname FROM tiger.featnames UNION ALL \n",
    "SELECT COUNT(*) AS cnt, 'tiger.geocode_settings' AS tblname FROM tiger.geocode_settings UNION ALL \n",
    "SELECT COUNT(*) AS cnt, 'tiger.geocode_settings_default' AS tblname FROM tiger.geocode_settings_default UNION ALL \n",
    "SELECT COUNT(*) AS cnt, 'tiger.loader_lookuptables' AS tblname FROM tiger.loader_lookuptables UNION ALL \n",
    "SELECT COUNT(*) AS cnt, 'tiger.loader_platform' AS tblname FROM tiger.loader_platform UNION ALL \n",
    "SELECT COUNT(*) AS cnt, 'tiger.loader_variables' AS tblname FROM tiger.loader_variables UNION ALL \n",
    "SELECT COUNT(*) AS cnt, 'tiger.pagc_gaz' AS tblname FROM tiger.pagc_gaz UNION ALL \n",
    "SELECT COUNT(*) AS cnt, 'tiger.pagc_lex' AS tblname FROM tiger.pagc_lex UNION ALL \n",
    "SELECT COUNT(*) AS cnt, 'tiger.pagc_rules' AS tblname FROM tiger.pagc_rules UNION ALL \n",
    "SELECT COUNT(*) AS cnt, 'tiger.place' AS tblname FROM tiger.place UNION ALL \n",
    "SELECT COUNT(*) AS cnt, 'tiger.place_lookup' AS tblname FROM tiger.place_lookup UNION ALL \n",
    "SELECT COUNT(*) AS cnt, 'tiger.secondary_unit_lookup' AS tblname FROM tiger.secondary_unit_lookup UNION ALL \n",
    "SELECT COUNT(*) AS cnt, 'tiger.state' AS tblname FROM tiger.state UNION ALL \n",
    "SELECT COUNT(*) AS cnt, 'tiger.state_lookup' AS tblname FROM tiger.state_lookup UNION ALL \n",
    "SELECT COUNT(*) AS cnt, 'tiger.street_type_lookup' AS tblname FROM tiger.street_type_lookup UNION ALL \n",
    "SELECT COUNT(*) AS cnt, 'tiger.tabblock' AS tblname FROM tiger.tabblock UNION ALL \n",
    "SELECT COUNT(*) AS cnt, 'tiger.tract' AS tblname FROM tiger.tract UNION ALL \n",
    "SELECT COUNT(*) AS cnt, 'tiger.zip_lookup' AS tblname FROM tiger.zip_lookup UNION ALL \n",
    "SELECT COUNT(*) AS cnt, 'tiger.zip_lookup_all' AS tblname FROM tiger.zip_lookup_all UNION ALL \n",
    "SELECT COUNT(*) AS cnt, 'tiger.zip_lookup_base' AS tblname FROM tiger.zip_lookup_base UNION ALL \n",
    "SELECT COUNT(*) AS cnt, 'tiger.zip_state' AS tblname FROM tiger.zip_state UNION ALL \n",
    "SELECT COUNT(*) AS cnt, 'tiger.zip_state_loc' AS tblname FROM tiger.zip_state_loc"
   ]
  },
  {
   "cell_type": "markdown",
   "metadata": {},
   "source": [
    "SELECT g.rating, ST_AsText(ST_SnapToGrid(g.geomout,0.00001)) As wktlonlat,\n",
    "(addy).address As stno, (addy).streetname As street,\n",
    "(addy).streettypeabbrev As styp, (addy).location As city, (addy).stateabbrev As st,(addy).zip"
   ]
  },
  {
   "cell_type": "markdown",
   "metadata": {},
   "source": [
    "%%sql\n",
    "SELECT rid\n",
    "    , (md).* \n",
    "FROM (\n",
    "    SELECT rid\n",
    "        , ST_MetaData(rast) AS md \n",
    "    FROM public.ne1_hr_lc\n",
    ") AS foo \n",
    "ORDER BY random() \n",
    "LIMIT 25;"
   ]
  },
  {
   "cell_type": "markdown",
   "metadata": {},
   "source": [
    "%%sql\n",
    "DROP TABLE IF EXISTS public.uk_raster;\n",
    "CREATE TABLE public.uk_raster AS\n",
    "SELECT r.rast\n",
    "    , c.*\n",
    "FROM public.ne1_hr_lc AS r\n",
    "    , public.ne_10m_admin_0_countries AS c\n",
    "WHERE ST_Intersects(r.rast, ST_Transform(c.geom, 4326)) \n",
    "    AND c.name = 'United Kingdom';\n",
    "    \n",
    "SELECT * FROM public.uk_raster;"
   ]
  },
  {
   "cell_type": "markdown",
   "metadata": {},
   "source": [
    "%%sql\n",
    "SELECT ST_GDALDrivers();"
   ]
  },
  {
   "cell_type": "markdown",
   "metadata": {},
   "source": [
    "%%sql\n",
    "CREATE TEMP TABLE tmp_out AS\n",
    "SELECT lo_from_bytea(0,\n",
    "       ST_AsGDALRaster(ST_Union(rast), 'GTiff',  ARRAY['COMPRESS=DEFLATE', 'PREDICTOR=2', 'PZLEVEL=9'])\n",
    "        ) AS loid\n",
    "FROM public.uk_raster;\n",
    "\n",
    "SELECT lo_export(loid, '/root/github/gp-explained/NE1_HR_LC/uk_raster.tif')\n",
    "FROM public.tmp_out;"
   ]
  },
  {
   "cell_type": "code",
   "execution_count": null,
   "metadata": {},
   "outputs": [],
   "source": []
  },
  {
   "cell_type": "code",
   "execution_count": null,
   "metadata": {},
   "outputs": [],
   "source": []
  },
  {
   "cell_type": "markdown",
   "metadata": {},
   "source": [
    "import rasterio\n",
    "import rasterio.plot\n",
    "from rasterio.windows import Window\n",
    "import pyproj\n",
    "import numpy as np\n",
    "import matplotlib\n",
    "import matplotlib.pyplot as plt\n",
    "\n",
    "filepath = '/root/github/gp-explained/NE1_HR_LC/NE1_HR_LC.tif'\n",
    "\n",
    "dataset = rasterio.open(filepath)\n",
    "\n",
    "print(dataset.count)\n",
    "print(dataset.width, dataset.height)\n",
    "print(dataset.bounds)"
   ]
  },
  {
   "cell_type": "markdown",
   "metadata": {},
   "source": [
    "dataset.indexes"
   ]
  },
  {
   "cell_type": "markdown",
   "metadata": {},
   "source": [
    "dataset.read(3)"
   ]
  },
  {
   "cell_type": "code",
   "execution_count": null,
   "metadata": {},
   "outputs": [],
   "source": []
  },
  {
   "cell_type": "markdown",
   "metadata": {},
   "source": [
    "with rasterio.open(filepath) as src:\n",
    "--   oviews = src.overviews(1) # list of overviews from biggest to smallest\n",
    "--  oview = oviews[-1] # let's look at the smallest thumbnail\n",
    "--   print('Decimation factor= {}'.format(oview))\n",
    "   -- NOTE this is using a 'decimated read' (http://rasterio.readthedocs.io/en/latest/topics/resampling.html)\n",
    "   thumbnail = src.read(1, out_shape=(1, int(src.height // 32), int(src.width // 32)))\n",
    "\n",
    "print('array type: ',type(thumbnail))\n",
    "print(thumbnail)\n",
    "\n",
    "plt.imshow(thumbnail)\n",
    "plt.colorbar()\n",
    "plt.title('Overview - Band 4 {}'.format(thumbnail.shape))\n",
    "plt.xlabel('Column #')\n",
    "plt.ylabel('Row #')"
   ]
  },
  {
   "cell_type": "code",
   "execution_count": null,
   "metadata": {},
   "outputs": [],
   "source": []
  }
 ],
 "metadata": {
  "kernelspec": {
   "display_name": "Python 3",
   "language": "python",
   "name": "python3"
  },
  "language_info": {
   "codemirror_mode": {
    "name": "ipython",
    "version": 3
   },
   "file_extension": ".py",
   "mimetype": "text/x-python",
   "name": "python",
   "nbconvert_exporter": "python",
   "pygments_lexer": "ipython3",
   "version": "3.7.6"
  }
 },
 "nbformat": 4,
 "nbformat_minor": 4
}
